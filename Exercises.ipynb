{
 "cells": [
  {
   "cell_type": "markdown",
   "metadata": {},
   "source": [
    "#### Exercise 1 - Class Inheritance"
   ]
  },
  {
   "cell_type": "markdown",
   "metadata": {},
   "source": [
    "Create an Employee class that sets an employee's first name, last name, job title, salary, and email. The Employee class should have a class attribute for the raise amount set to 5% (1.05). Create a method that will apply the raise to an employee's salary."
   ]
  },
  {
   "cell_type": "code",
   "execution_count": 170,
   "metadata": {},
   "outputs": [],
   "source": [
    "class Employee:\n",
    "    \n",
    "    raise_amount = 1.05\n",
    "    \n",
    "    def __init__(self, first, last, title, salary, ):\n",
    "        self.first = first.title()\n",
    "        self.last = last.title()\n",
    "        self.title = title\n",
    "        self.salary = salary\n",
    "        self.email = f\"{self.first.lower()}.{self.last.lower()}@company.com\"\n",
    "        self.full_name = self.first + ' ' + self.last\n",
    "        \n",
    "    def apply_raise(self, ):\n",
    "            self.salary *= Employee.raise_amount\n",
    "        \n",
    "    def __str__(self):\n",
    "        return f\"Name: {self.first} {self.last}; Title: {self.title}; email: {self.email}; Salary: ${self.salary:.2f}\"\n",
    "    \n"
   ]
  },
  {
   "cell_type": "code",
   "execution_count": 171,
   "metadata": {},
   "outputs": [
    {
     "name": "stdout",
     "output_type": "stream",
     "text": [
      "Name: Jack Sparrow; Title: captain; email: jack.sparrow@company.com; Salary: $5000.00\n",
      "Name: Jack Sparrow; Title: captain; email: jack.sparrow@company.com; Salary: $5250.00\n"
     ]
    }
   ],
   "source": [
    "e1 = Employee('jack', 'sparrow', 'captain', 5000, )\n",
    "print(e1)\n",
    "e1.apply_raise()\n",
    "print(e1)"
   ]
  },
  {
   "cell_type": "markdown",
   "metadata": {},
   "source": [
    "Create two more classes that inherit from the Employee class. One for Sales and one for Development. Both of these classes will have the same attributes as the Employee.<br>\n",
    "- For the Sales employees, add a phone number attribute on instantiation using the super method. \n",
    "- Create a method on the Sales class that will Send a Follow Up Email. It should take in a customer name and \"send\" aka print a formatted string \"Dear *customer*, Thank you for your interest in our product. Please let me know if you have any questions. My email is *email* or my phone number is *phone number*. Thanks, *full name*\"\n",
    "- Create a method on the Development class called code that will print out \"*full name* is writing code\"."
   ]
  },
  {
   "cell_type": "code",
   "execution_count": 172,
   "metadata": {},
   "outputs": [],
   "source": [
    "class Sales(Employee): \n",
    "    def __init__(self, first, last, title, salary, phone): # DO NOT UNDERSTAND THIS\n",
    "        super().__init__(first, last, title, salary, ) # DO NOT UNDERSTAND ASKS TOMORROW OR VIDEO\n",
    "        self.phone = phone\n",
    "        \n",
    "    def send_email(self, cust_name):\n",
    "        print(f\"Dear {cust_name}, thank you for your interest in our product. Please let me know if you have any questions. My email is {self.email} and my phone is {self.phone}. Thanks, {self.full_name}\")\n",
    "    \n",
    "class Development(Employee): \n",
    "    def code(self):\n",
    "        print(f\"{self.full_name} is writing code.\")"
   ]
  },
  {
   "cell_type": "code",
   "execution_count": 173,
   "metadata": {
    "scrolled": true
   },
   "outputs": [
    {
     "name": "stdout",
     "output_type": "stream",
     "text": [
      "Name: Will Turner; Title: apprentice; email: will.turner@company.com; Salary: $3000.00\n",
      "555-5555\n"
     ]
    }
   ],
   "source": [
    "e2 = Sales('will', 'turner', 'apprentice', 3000, '555-5555')\n",
    "print(e2)\n",
    "print(e2.phone)\n",
    "# e2.apply_raise()\n",
    "# print(e2)"
   ]
  },
  {
   "cell_type": "markdown",
   "metadata": {},
   "source": [
    "- Create an instance of a Sales Employee with a salary of $50,000.\n",
    "- Send follow up emails to \"Mike O'Neil\" and \"Hannah Stern\"\n",
    "- Give the employee a raise and print the salary"
   ]
  },
  {
   "cell_type": "code",
   "execution_count": 174,
   "metadata": {
    "scrolled": true
   },
   "outputs": [
    {
     "name": "stdout",
     "output_type": "stream",
     "text": [
      "Dear Mike O'Neil, thank you for your interest in our product. Please let me know if you have any questions. My email is bob.hope@company.com and my phone is 555-5555. Thanks, Bob Hope\n",
      "Dear Hannah Stern, thank you for your interest in our product. Please let me know if you have any questions. My email is bob.hope@company.com and my phone is 555-5555. Thanks, Bob Hope\n",
      "Name: Bob Hope; Title: SDR; email: bob.hope@company.com; Salary: $1050000.00\n",
      "1050000.0\n"
     ]
    }
   ],
   "source": [
    "e1 = Sales('Bob', 'Hope', 'SDR', 1000000, '555-5555')\n",
    "e1.send_email(\"Mike O'Neil\")\n",
    "e1.send_email(\"Hannah Stern\")\n",
    "e1.apply_raise()\n",
    "print(e1)\n",
    "print(e1.salary)"
   ]
  },
  {
   "cell_type": "markdown",
   "metadata": {},
   "source": [
    "- Create an instance of a Development Employee with a salary of $100,000\n",
    "- Write some code with this employee\n",
    "- Give the employee a raise and print the salary"
   ]
  },
  {
   "cell_type": "code",
   "execution_count": 176,
   "metadata": {
    "scrolled": false
   },
   "outputs": [
    {
     "name": "stdout",
     "output_type": "stream",
     "text": [
      "Name: Esperanza Spalding; Title: software engineer; email: esperanza.spalding@company.com; Salary: $100000.00\n",
      "Esperanza Spalding is writing code.\n",
      "105000.0\n",
      "Name: Esperanza Spalding; Title: software engineer; email: esperanza.spalding@company.com; Salary: $105000.00\n"
     ]
    }
   ],
   "source": [
    "e2 = Development('Esperanza', 'Spalding', 'software engineer', 100000, )\n",
    "print(e2)\n",
    "e2.code()\n",
    "e2.apply_raise()\n",
    "print(e2.salary)\n",
    "print(e2)"
   ]
  },
  {
   "cell_type": "markdown",
   "metadata": {},
   "source": [
    "#### Exercise 2 - Importing Modules"
   ]
  },
  {
   "cell_type": "markdown",
   "metadata": {},
   "source": [
    "In VS Code, create a module titled `geometry` and add two functions in there. One that will calculate the area of a circle given a radius. The second will find the hypotenuse of a right angle given the two sides. Import the module or the functions from the module and use it to find the answers to the below questions"
   ]
  },
  {
   "cell_type": "markdown",
   "metadata": {},
   "source": [
    "What is the area of a circle with a radius of 7cm?"
   ]
  },
  {
   "cell_type": "code",
   "execution_count": 1,
   "metadata": {
    "scrolled": true
   },
   "outputs": [
    {
     "name": "stdout",
     "output_type": "stream",
     "text": [
      "This is the geometry module\n"
     ]
    },
    {
     "data": {
      "text/plain": [
       "153.93804002589985"
      ]
     },
     "execution_count": 1,
     "metadata": {},
     "output_type": "execute_result"
    }
   ],
   "source": [
    "import geometry\n",
    "\n",
    "geometry.circle_area(7)"
   ]
  },
  {
   "cell_type": "markdown",
   "metadata": {},
   "source": [
    "What is the hypotenuse of a right angle with sides of 3in and 4in?"
   ]
  },
  {
   "cell_type": "code",
   "execution_count": 2,
   "metadata": {},
   "outputs": [
    {
     "data": {
      "text/plain": [
       "5.0"
      ]
     },
     "execution_count": 2,
     "metadata": {},
     "output_type": "execute_result"
    }
   ],
   "source": [
    "# a^2 + b^2 = c^2\n",
    "\n",
    "geometry.hypotenuse(3, 4)"
   ]
  },
  {
   "cell_type": "code",
   "execution_count": 3,
   "metadata": {},
   "outputs": [
    {
     "data": {
      "text/plain": [
       "3.141592653589793"
      ]
     },
     "execution_count": 3,
     "metadata": {},
     "output_type": "execute_result"
    }
   ],
   "source": [
    "geometry.math.pi"
   ]
  },
  {
   "cell_type": "code",
   "execution_count": null,
   "metadata": {},
   "outputs": [],
   "source": []
  }
 ],
 "metadata": {
  "kernelspec": {
   "display_name": "Python 3",
   "language": "python",
   "name": "python3"
  },
  "language_info": {
   "codemirror_mode": {
    "name": "ipython",
    "version": 3
   },
   "file_extension": ".py",
   "mimetype": "text/x-python",
   "name": "python",
   "nbconvert_exporter": "python",
   "pygments_lexer": "ipython3",
   "version": "3.8.3"
  }
 },
 "nbformat": 4,
 "nbformat_minor": 4
}
